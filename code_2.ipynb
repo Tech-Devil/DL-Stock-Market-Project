{
 "cells": [
  {
   "cell_type": "code",
   "execution_count": null,
   "metadata": {},
   "outputs": [],
   "source": [
    "import pandas as pd\n",
    "from textblob import TextBlob"
   ]
  },
  {
   "cell_type": "code",
   "execution_count": null,
   "metadata": {},
   "outputs": [],
   "source": [
    "def getSubjectivity(text):\n",
    "    try:\n",
    "        return TextBlob(text).sentiment.subjectivity\n",
    "    except:\n",
    "        return None"
   ]
  },
  {
   "cell_type": "code",
   "execution_count": null,
   "metadata": {},
   "outputs": [],
   "source": [
    "def getPolarity(text):\n",
    "    try:\n",
    "        return TextBlob(text).sentiment.polarity\n",
    "    except:\n",
    "        return None"
   ]
  },
  {
   "cell_type": "code",
   "execution_count": null,
   "metadata": {},
   "outputs": [],
   "source": [
    "sentence_df = pd.read_csv('input/Combined_News_DJIA.csv')\n",
    "\n",
    "sentence_df['Combined'] = sentence_df['Top1']\n",
    "\n",
    "for i in range(2, 26):\n",
    "    sentence_df['Combined'] += sentence_df['Top' + str(i)]\n",
    "    \n",
    "\n",
    "\n",
    "for index, sentence in sentence_df['Combined'].iteritems():\n",
    "    if sentence:\n",
    "        sentence_df.at[index, 'Subjectivity'] = getSubjectivity(sentence)\n",
    "        sentence_df.at[index, 'Polarity'] = getPolarity(sentence)"
   ]
  },
  {
   "cell_type": "code",
   "execution_count": null,
   "metadata": {},
   "outputs": [],
   "source": [
    "sentence_df.head()"
   ]
  },
  {
   "cell_type": "code",
   "execution_count": null,
   "metadata": {},
   "outputs": [],
   "source": [
    "print(sentence_df.shape)\n",
    "print(sentence_df.dtypes)"
   ]
  },
  {
   "cell_type": "code",
   "execution_count": null,
   "metadata": {},
   "outputs": [],
   "source": [
    "tmp_list = ['Date', 'Label', 'Subjectivity', 'Polarity']\n",
    "\n",
    "my_dataframe = sentence_df[tmp_list]\n",
    "print(my_dataframe.shape)\n",
    "my_dataframe.head()"
   ]
  },
  {
   "cell_type": "code",
   "execution_count": null,
   "metadata": {},
   "outputs": [],
   "source": [
    "cols = list(my_dataframe)\n",
    "print(cols)\n",
    "cols.append(cols.pop(cols.index('Label')))\n",
    "my_dataframe = my_dataframe.ix[:, cols]\n",
    "my_dataframe.head()"
   ]
  },
  {
   "cell_type": "code",
   "execution_count": null,
   "metadata": {},
   "outputs": [],
   "source": [
    "print(cols)\n",
    "my_dataframe.index = my_dataframe.index.sort_values()\n",
    "my_dataframe.head()"
   ]
  },
  {
   "cell_type": "code",
   "execution_count": null,
   "metadata": {},
   "outputs": [],
   "source": [
    "print(my_dataframe.describe())"
   ]
  },
  {
   "cell_type": "code",
   "execution_count": null,
   "metadata": {},
   "outputs": [],
   "source": [
    "from sklearn.linear_model import LogisticRegression\n",
    "from sklearn.neighbors import KNeighborsClassifier\n",
    "from sklearn.svm import SVC\n",
    "from sklearn.gaussian_process import GaussianProcessClassifier\n",
    "from sklearn.gaussian_process.kernels import RBF\n",
    "from sklearn.tree import DecisionTreeClassifier\n",
    "from sklearn.ensemble import RandomForestClassifier, AdaBoostClassifier\n",
    "from sklearn.naive_bayes import GaussianNB\n",
    "from sklearn.linear_model import RidgeClassifier\n",
    "from sklearn.discriminant_analysis import QuadraticDiscriminantAnalysis\n",
    "from sklearn.neural_network import MLPClassifier"
   ]
  },
  {
   "cell_type": "code",
   "execution_count": null,
   "metadata": {},
   "outputs": [],
   "source": [
    "from datetime import date\n",
    "print(my_dataframe.head())\n",
    "\n",
    "train_size = int(len(my_dataframe.loc[(pd.to_datetime(my_dataframe[\"Date\"]) <= date(2014,12,31)), :]))\n",
    "print(train_size)"
   ]
  },
  {
   "cell_type": "code",
   "execution_count": null,
   "metadata": {},
   "outputs": [],
   "source": [
    "print(my_dataframe.dtypes)\n",
    "print(my_dataframe.count())\n",
    "nan_list = ['Subjectivity', 'Polarity']\n",
    "\n",
    "for col in nan_list:\n",
    "    my_dataframe[col] = my_dataframe[col].fillna(my_dataframe[col].mean())\n",
    "\n",
    "print(my_dataframe.count())\n",
    "X = my_dataframe.loc[:,'Subjectivity':'Polarity']\n",
    "y = my_dataframe.loc[:,'Label']\n",
    "validation_size = 0.20\n",
    "train_size = int(len(X.index) * 0.7)\n",
    "\n",
    "print(len(y))\n",
    "print(train_size)\n",
    "X_train, X_test = X.loc[0:train_size, :], X.loc[train_size: len(X.index), :]\n",
    "y_train, y_test = y[0:train_size+1], y.loc[train_size: len(X.index)]\n",
    "print('Observations: %d' % (len(X.index)))\n",
    "print('X Training Observations: %d' % (len(X_train.index)))\n",
    "print('X Testing Observations: %d' % (len(X_test.index)))\n",
    "print('y Training Observations: %d' % (len(y_train)))\n",
    "print('y Testing Observations: %d' % (len(y_test)))\n",
    "\n",
    "num_folds = 10\n",
    "scoring = 'accuracy'\n",
    "models = []\n",
    "models.append(('Logistic Regression' , LogisticRegression()))\n",
    "models.append(('K-Neighbors Classifier' , KNeighborsClassifier()))\n",
    "models.append(('Gaussian NB' , GaussianNB()))\n",
    "models.append(('SVM' , SVC()))\n",
    "models.append(('Random Forest Classifier' , RandomForestClassifier(n_estimators=50)))\n",
    "models.append(('Gaussian Process Classifier', GaussianProcessClassifier(1.0 * RBF(1.0))))\n",
    "models.append(('Decision Tree Classifier', DecisionTreeClassifier(max_depth=3)))\n",
    "models.append(('Ada Boost Classifier', AdaBoostClassifier()))\n",
    "models.append(('MLP Classifier',  MLPClassifier(alpha=1)))\n",
    "models.append(('Quadratic Discriminant Analysis', QuadraticDiscriminantAnalysis()))\n",
    "models.append(('Ridge Classifier', RidgeClassifier()))"
   ]
  },
  {
   "cell_type": "code",
   "execution_count": null,
   "metadata": {},
   "outputs": [],
   "source": [
    "from sklearn.metrics import classification_report, confusion_matrix, accuracy_score, mean_squared_error"
   ]
  },
  {
   "cell_type": "code",
   "execution_count": null,
   "metadata": {},
   "outputs": [],
   "source": [
    "results = []\n",
    "names = []\n",
    "\n",
    "for name, model in models:\n",
    "    clf = model\n",
    "    clf.fit(X_train, y_train)\n",
    "    y_pred = clf.predict(X_test)\n",
    "    accu_score = accuracy_score(y_test, y_pred)\n",
    "    print(name + \": \" + str(accu_score))"
   ]
  },
  {
   "cell_type": "code",
   "execution_count": null,
   "metadata": {},
   "outputs": [],
   "source": [
    "from sklearn.model_selection import cross_val_score"
   ]
  },
  {
   "cell_type": "code",
   "execution_count": null,
   "metadata": {},
   "outputs": [],
   "source": [
    "from sklearn.ensemble import BaggingClassifier\n",
    "\n",
    "lr = LogisticRegression()\n",
    "knn = KNeighborsClassifier()\n",
    "nb = GaussianNB()\n",
    "svm = SVC()\n",
    "rf = RandomForestClassifier(n_estimators=50)\n",
    "dt =  DecisionTreeClassifier(max_depth=3)\n",
    "ada = AdaBoostClassifier()\n",
    "mlp = MLPClassifier(alpha=1)\n",
    "qda = QuadraticDiscriminantAnalysis()\n",
    "rc = RidgeClassifier()\n",
    "\n",
    "\n",
    "clf_array = [lr, knn, nb, svm, rf, dt, ada, mlp, qda, rc]\n",
    "for clf in clf_array:\n",
    "    vanilla_scores = cross_val_score(clf, X_train, y_train, cv=10, n_jobs=-1)\n",
    "    bagging_clf = BaggingClassifier(clf, max_samples=0.4, max_features=2)\n",
    "    bagging_scores = cross_val_score(bagging_clf, X_train, y_train, cv=10, n_jobs=-1)\n",
    "    \n",
    "    print(\"Mean of: {1:.3f}, std: (+/-) {2:.3f} [{0}]\".format(clf.__class__.__name__, vanilla_scores.mean(), vanilla_scores.std()))\n",
    "    print(\"Mean of: {1:.3f}, std: (+/-) {2:.3f} [Bagging {0}]\\n\".format(clf.__class__.__name__, bagging_scores.mean(), bagging_scores.std()))"
   ]
  },
  {
   "cell_type": "code",
   "execution_count": null,
   "metadata": {},
   "outputs": [],
   "source": [
    "from sklearn.ensemble import VotingClassifier\n",
    "\n",
    "eclf_array = VotingClassifier(estimators=[('LogisticRegression', lr), ('KNeighborsClassifier', knn), ('GaussianNB', nb), ('SVC', svm), ('RandomForestClassifier', rf), ('DecisionTreeClassifier', dt), ('AdaBoostClassifier', ada), ('MLPClassifier', mlp), ('QuadraticDiscriminantAnalysis', qda), ('RidgeClassifier', rc)], voting='hard')\n",
    "for clf, label in zip(clf_array + [eclf_array], ['LogisticRegression', 'KNeighborsClassifier', 'GaussianNB', 'SVC', 'RandomForestClassifier', 'DecisionTreeClassifier', 'AdaBoostClassifier', 'MLPClassifier', 'QuadraticDiscriminantAnalysis', 'RidgeClassifier', 'Ensemble']):\n",
    "    scores = cross_val_score(clf, X_train, y_train, cv=10, scoring='accuracy')\n",
    "    print(\"Accuracy: %0.2f (+/- %0.2f) [%s]\" % (scores.mean(), scores.std(), label))"
   ]
  },
  {
   "cell_type": "code",
   "execution_count": null,
   "metadata": {},
   "outputs": [],
   "source": [
    "from sklearn.ensemble import GradientBoostingClassifier\n",
    "from xgboost import XGBClassifier"
   ]
  },
  {
   "cell_type": "code",
   "execution_count": null,
   "metadata": {},
   "outputs": [],
   "source": [
    "from mlxtend.classifier import EnsembleVoteClassifier\n",
    "\n",
    "eclf = EnsembleVoteClassifier(clfs=clf_array, voting='hard')\n",
    "labels = ['LogisticRegression', 'KNeighborsClassifier', 'GaussianNB', 'SVC', 'RandomForestClassifier', 'DecisionTreeClassifier', 'AdaBoostClassifier', 'MLPClassifier', 'QuadraticDiscriminantAnalysis', 'RidgeClassifier', 'Ensemble']\n",
    "for clf, label in zip(clf_array + [eclf], labels):\n",
    "    scores = cross_val_score(clf, X_train, y_train, cv=10, scoring='accuracy')\n",
    "    print(\"Mean: {0:.3f}, std: (+/-) {1:.3f} [{2}]\".format(scores.mean(), scores.std(), label))"
   ]
  },
  {
   "cell_type": "code",
   "execution_count": null,
   "metadata": {},
   "outputs": [],
   "source": [
    "from sklearn.model_selection import GridSearchCV\n",
    "from mlxtend.classifier import StackingClassifier\n",
    "\n",
    "clf1 = RidgeClassifier()\n",
    "clf3 = KNeighborsClassifier()\n",
    "clf2 = RandomForestClassifier()\n",
    "clf4 = LogisticRegression()\n",
    "clf5 = GaussianNB()\n",
    "clf6 = SVC()\n",
    "clf8 =  DecisionTreeClassifier(max_depth=3)\n",
    "clf9 = AdaBoostClassifier()\n",
    "clf10 = MLPClassifier(alpha=1)\n",
    "clf11 = QuadraticDiscriminantAnalysis()\n",
    "\n",
    "\n",
    "lr = LogisticRegression()\n",
    "sclf = StackingClassifier(classifiers=[clf1, clf2, clf3, clf4, clf5, clf6, clf8, clf9, clf10, clf11], \n",
    "                          meta_classifier=lr)\n",
    "\n",
    "params = {'kneighborsclassifier__n_neighbors': [1, 5],\n",
    "          'randomforestclassifier__n_estimators': [10, 50],\n",
    "          'meta-logisticregression__C': [0.1, 10.0]}\n",
    "\n",
    "grid = GridSearchCV(estimator=sclf, \n",
    "                    param_grid=params, \n",
    "                    cv=5,\n",
    "                    refit=True)\n",
    "grid.fit(X_train, y_train)\n",
    "\n",
    "cv_keys = ('mean_test_score', 'std_test_score', 'params')\n",
    "\n",
    "for r, _ in enumerate(grid.cv_results_['mean_test_score']):\n",
    "    print(\"%0.3f +/- %0.2f %r\"\n",
    "          % (grid.cv_results_[cv_keys[0]][r],\n",
    "             grid.cv_results_[cv_keys[1]][r] / 2.0,\n",
    "             grid.cv_results_[cv_keys[2]][r]))\n",
    "\n",
    "print('Best parameters: %s' % grid.best_params_)\n",
    "print('Accuracy: %.2f' % grid.best_score_)"
   ]
  },
  {
   "cell_type": "code",
   "execution_count": null,
   "metadata": {},
   "outputs": [],
   "source": [
    "import numpy as np"
   ]
  },
  {
   "cell_type": "code",
   "execution_count": null,
   "metadata": {
    "scrolled": true
   },
   "outputs": [],
   "source": [
    "print(X_train.shape)\n",
    "print(type(X_train))\n",
    "print(X_train.head())\n",
    "Xnpy = np.array(X_train)"
   ]
  },
  {
   "cell_type": "code",
   "execution_count": null,
   "metadata": {},
   "outputs": [],
   "source": [
    "import keras.backend as K\n",
    "from keras.models import Sequential\n",
    "from keras.layers import Dense\n",
    "from keras.utils import to_categorical"
   ]
  },
  {
   "cell_type": "code",
   "execution_count": null,
   "metadata": {},
   "outputs": [],
   "source": [
    "train_y = to_categorical(y_train)"
   ]
  },
  {
   "cell_type": "code",
   "execution_count": null,
   "metadata": {},
   "outputs": [],
   "source": [
    "K.clear_session()\n",
    "\n",
    "model = Sequential()\n",
    "model.add(Dense(128, input_shape=(2, ), activation='relu'))\n",
    "model.add(Dense(64, activation='relu'))\n",
    "model.add(Dense(32, activation='relu'))\n",
    "model.add(Dense(2, activation='softmax'))\n",
    "\n",
    "model.compile(optimizer='adam',\n",
    "              loss='categorical_crossentropy',\n",
    "              metrics=['accuracy'])\n",
    "model.summary()"
   ]
  },
  {
   "cell_type": "code",
   "execution_count": null,
   "metadata": {},
   "outputs": [],
   "source": [
    "model.fit(Xnpy, train_y, epochs=100, verbose=1, validation_split=0.2)"
   ]
  },
  {
   "cell_type": "code",
   "execution_count": null,
   "metadata": {},
   "outputs": [],
   "source": [
    "testnpy = np.array(X_test)\n",
    "test_y = to_categorical(y_test)"
   ]
  },
  {
   "cell_type": "code",
   "execution_count": null,
   "metadata": {},
   "outputs": [],
   "source": [
    "model.evaluate(testnpy, test_y)"
   ]
  },
  {
   "cell_type": "code",
   "execution_count": null,
   "metadata": {},
   "outputs": [],
   "source": []
  }
 ],
 "metadata": {
  "kernelspec": {
   "display_name": "Python 3",
   "language": "python",
   "name": "python3"
  },
  "language_info": {
   "codemirror_mode": {
    "name": "ipython",
    "version": 3
   },
   "file_extension": ".py",
   "mimetype": "text/x-python",
   "name": "python",
   "nbconvert_exporter": "python",
   "pygments_lexer": "ipython3",
   "version": "3.6.7"
  }
 },
 "nbformat": 4,
 "nbformat_minor": 2
}
